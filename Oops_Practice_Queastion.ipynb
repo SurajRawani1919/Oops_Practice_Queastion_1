{
 "cells": [
  {
   "cell_type": "code",
   "execution_count": 3,
   "id": "0089f359-db6f-46d1-b6f7-46aa2987c85b",
   "metadata": {},
   "outputs": [
    {
     "name": "stdout",
     "output_type": "stream",
     "text": [
      "Car Make: BMW\n",
      "Car Model: X5\n",
      "Number of Doors: 4\n"
     ]
    }
   ],
   "source": [
    "#1. Create a base class Vehicle with attributes make and model. Derive a class Car from Vehicle and add\n",
    "#an attribute num_doors. Implement a method in Car to display its details\n",
    "\n",
    "class Vehicle:\n",
    "    def __init__(self, make, model):\n",
    "        self.make = make\n",
    "        self.model = model\n",
    "\n",
    "\n",
    "class Car(Vehicle):\n",
    "    def __init__(self, make, model, num_doors):\n",
    "        super().__init__(make, model)  # Initialize make and model from Vehicle\n",
    "        self.num_doors = num_doors  # Add attribute num_doors\n",
    "\n",
    "    \n",
    "    def display_details(self):\n",
    "        print(f\"Car Make: {self.make}\")\n",
    "        print(f\"Car Model: {self.model}\")\n",
    "        print(f\"Number of Doors: {self.num_doors}\")\n",
    "\n",
    "\n",
    "my_car = Car(\"BMW\", \"X5\", 4)\n",
    "my_car.display_details()"
   ]
  },
  {
   "cell_type": "code",
   "execution_count": 19,
   "id": "e3ac1217-f532-4899-99dd-3bd0a7bba202",
   "metadata": {},
   "outputs": [
    {
     "name": "stdout",
     "output_type": "stream",
     "text": [
      "Area of the circle    :  78.5\n",
      "Area of the rectangle : 24\n"
     ]
    }
   ],
   "source": [
    "#2. Define a base class Shape with a method area. Create two derived classes Circle and Rectangle that\n",
    "# override the area method to calculate the area of the respective shapes.\n",
    "\n",
    "\n",
    "# Base class Shape\n",
    "class Shape:\n",
    "    def area(self):\n",
    "        pass \n",
    "\n",
    "\n",
    "class Circle(Shape):\n",
    "    def __init__(self, radius):\n",
    "        self.radius = radius\n",
    "    \n",
    "    \n",
    "    def area(self):\n",
    "        return 3.14 * (self.radius **2)\n",
    "\n",
    "\n",
    "class Rectangle(Shape):\n",
    "    def __init__(self, width, height):\n",
    "        self.width = width\n",
    "        self.height = height\n",
    "    \n",
    "   \n",
    "    def area(self):\n",
    "        return self.width * self.height  \n",
    "\n",
    "\n",
    "circle = Circle(5)  \n",
    "rectangle = Rectangle(4, 6)  \n",
    "\n",
    "print(\"Area of the circle    : \",circle.area())\n",
    "print(\"Area of the rectangle :\",rectangle.area())\n"
   ]
  },
  {
   "cell_type": "code",
   "execution_count": 8,
   "id": "3fa23dfe-ef84-49ab-b0bb-0f107a0c1498",
   "metadata": {},
   "outputs": [
    {
     "name": "stdout",
     "output_type": "stream",
     "text": [
      "Name: Suraj Singh\n",
      "Salary: 30000\n",
      "Department: Data Analyst\n"
     ]
    }
   ],
   "source": [
    "#3. Design a class Employee with attributes name and salary. Derive a class Manager from Employee and\n",
    "#add an attribute department. Implement a method in Manager to display the employee’s name,\n",
    "# salary, and department.\n",
    "\n",
    "# Base class Employee\n",
    "class Employee:\n",
    "    def __init__(self, name, salary):\n",
    "        self.name = name\n",
    "        self.salary = salary\n",
    "\n",
    "# Derived class Manager from Employee\n",
    "class Manager(Employee):\n",
    "    def __init__(self, name, salary, department):\n",
    "        super().__init__(name, salary)  # Initialize name and salary from Employee\n",
    "        self.department = department  # Add attribute department\n",
    "    \n",
    "    # Method to display manager details\n",
    "    def display_details(self):\n",
    "        print(f\"Name: {self.name}\")\n",
    "        print(f\"Salary: {self.salary}\")\n",
    "        print(f\"Department: {self.department}\")\n",
    "\n",
    "# Example usage\n",
    "manager = Manager(\"Suraj Singh\", 30000, \"Data Analyst\")\n",
    "manager.display_details()\n"
   ]
  },
  {
   "cell_type": "code",
   "execution_count": 7,
   "id": "6a41d2e3-ad52-4f20-95b8-b3ef8a3f0ecb",
   "metadata": {},
   "outputs": [
    {
     "name": "stdout",
     "output_type": "stream",
     "text": [
      "Dog says:  Woof!\n",
      "Cat says:  Meow!\n"
     ]
    }
   ],
   "source": [
    "#4. Create a base class Animal with a method speak. Derive classes Dog and Cat from Animal, each\n",
    "implementing their own version of speak to output a specific sound.\n",
    "\n",
    "class Animal:\n",
    "    def speak(self):\n",
    "        pass  \n",
    "\n",
    "\n",
    "class Dog(Animal):\n",
    "    def speak(self):\n",
    "        return \"Woof!\" \n",
    "\n",
    "\n",
    "class Cat(Animal):\n",
    "    def speak(self):\n",
    "        return \"Meow!\"  \n",
    "\n",
    "\n",
    "dog = Dog()\n",
    "cat = Cat()\n",
    "\n",
    "print(\"Dog says: \",dog.speak())\n",
    "print(\"Cat says: \",cat.speak())\n"
   ]
  },
  {
   "cell_type": "code",
   "execution_count": 21,
   "id": "73b1b7c3-ada8-45a7-9d29-aae93dec7462",
   "metadata": {},
   "outputs": [
    {
     "name": "stdout",
     "output_type": "stream",
     "text": [
      "Hi, my name is Snigdha Dhamija and I am 27 years old.\n",
      "Hi, my name is Suraj and I am 18 years old. I am in grade 12th.\n"
     ]
    }
   ],
   "source": [
    "#5.Implement a class Person with a method introduce. Derive a class Student from Person and override\n",
    "# introduce to include additional information specific to students, like their grade.\n",
    "\n",
    "\n",
    "class Person:\n",
    "    def __init__(self, name, age):\n",
    "        self.name = name\n",
    "        self.age = age\n",
    "\n",
    "    \n",
    "    def introduce(self):\n",
    "        return f\"Hi, my name is {self.name} and I am {self.age} years old.\"\n",
    "\n",
    "\n",
    "class Student(Person):\n",
    "    def __init__(self, name, age, grade):\n",
    "        super().__init__(name, age)  \n",
    "        self.grade = grade  \n",
    "    \n",
    "    # Overriding the introduce method to include grade\n",
    "    def introduce(self):\n",
    "        base_introduction = super().introduce()  \n",
    "        return f\"{base_introduction} I am in grade {self.grade}.\"\n",
    "\n",
    "\n",
    "person = Person(\"Snigdha Dhamija\", 27)\n",
    "student = Student(\"Suraj\", 18, \"12th\")\n",
    "\n",
    "print(person.introduce())  \n",
    "print(student.introduce())  \n"
   ]
  },
  {
   "cell_type": "code",
   "execution_count": 24,
   "id": "5ed493a2-5eb1-4976-81bf-5185d94e12c1",
   "metadata": {},
   "outputs": [
    {
     "name": "stdout",
     "output_type": "stream",
     "text": [
      "Deposited: 50. New Balance: 150\n",
      "Current Balance:  150\n"
     ]
    }
   ],
   "source": [
    "#6. Define a class Account with private attributes _balance and a public method deposit to add money.\n",
    "# Implement a public method get_balance to retrieve the current balance.\n",
    "\n",
    "\n",
    "class Account:\n",
    "    def __init__(self, initial_balance=0):\n",
    "        self._balance = initial_balance  \n",
    "\n",
    "    \n",
    "    def deposit(self, amount):\n",
    "        if amount > 0:\n",
    "            self._balance += amount\n",
    "            print(f\"Deposited: {amount}. New Balance: {self._balance}\")\n",
    "        else:\n",
    "            print(\"Deposit amount must be positive.\")\n",
    "\n",
    "   \n",
    "    def get_balance(self):\n",
    "        return self._balance\n",
    "\n",
    "\n",
    "my_account = Account(100)  \n",
    "my_account.deposit(50)  \n",
    "print(\"Current Balance: \",my_account.get_balance())  \n"
   ]
  },
  {
   "cell_type": "code",
   "execution_count": 27,
   "id": "98228404-a79a-4673-ae48-d4cf62c0b416",
   "metadata": {},
   "outputs": [
    {
     "name": "stdout",
     "output_type": "stream",
     "text": [
      "Title: Mahabharata, Author: Vyasa\n",
      "Updated Title: Valmiki, Updated Author: Ramayana\n"
     ]
    }
   ],
   "source": [
    "#7.Create a class Book with private attributes _title and _author. Provide public getter and setter\n",
    "# methods to access and modify these attributes.\n",
    "\n",
    "\n",
    "class Book:\n",
    "    def __init__(self, title, author):\n",
    "        self._title = title  \n",
    "        self._author = author  \n",
    "\n",
    "    \n",
    "    def get_title(self):\n",
    "        return self._title\n",
    "\n",
    "    \n",
    "    def set_title(self, title):\n",
    "        self._title = title\n",
    "\n",
    "\n",
    "    def get_author(self):\n",
    "        return self._author\n",
    "\n",
    "\n",
    "    def set_author(self, author):\n",
    "        self._author = author\n",
    "\n",
    "\n",
    "book = Book(\"Mahabharata\", \"Vyasa\")\n",
    "\n",
    "\n",
    "print(f\"Title: {book.get_title()}, Author: {book.get_author()}\")\n",
    "\n",
    "\n",
    "book.set_title(\"Valmiki\")\n",
    "book.set_author(\"Ramayana\")\n",
    "\n",
    "print(f\"Updated Title: {book.get_title()}, Updated Author: {book.get_author()}\")\n"
   ]
  },
  {
   "cell_type": "code",
   "execution_count": 29,
   "id": "f04d45c1-911b-4da9-a4e0-11b3f1bd790d",
   "metadata": {},
   "outputs": [
    {
     "name": "stdout",
     "output_type": "stream",
     "text": [
      "Circumference : 25.12\n",
      "Area : 50.24\n"
     ]
    }
   ],
   "source": [
    "#8. Design a class Circle with a private attribute _radius. Implement a public method set_radius to set\n",
    "# the radius and another method get_area to compute the area of the circle.\n",
    "\n",
    "\n",
    "class Circle:\n",
    "    def __init__(self,radius):\n",
    "        self.radius=radius\n",
    "\n",
    "    def circumference(self):\n",
    "        return 2 * 3.14 * self.radius \n",
    "\n",
    "    def area(self):\n",
    "        return 3.14 * (self.radius **2)\n",
    "\n",
    "calculate = Circle(4)\n",
    "\n",
    "print(\"Circumference :\",calculate.circumference())\n",
    "print(\"Area :\", calculate.area())"
   ]
  },
  {
   "cell_type": "code",
   "execution_count": 30,
   "id": "85561368-2679-47ee-be11-f0e38130c891",
   "metadata": {},
   "outputs": [
    {
     "name": "stdout",
     "output_type": "stream",
     "text": [
      "Area: 100\n",
      "Perimeter: 40\n"
     ]
    }
   ],
   "source": [
    "#9. Create a class Library with a private attribute _books. Implement public methods to add a book,\n",
    "# remove a book, and list all books.\n",
    "\n",
    "class Rectangle:\n",
    "    def __init__(self, width, height):\n",
    "        self.width = width\n",
    "        self.height = height\n",
    "\n",
    "    def area(self):\n",
    "        return self.width * self.height  # Area = width * height\n",
    "\n",
    "    def perimeter(self):\n",
    "        return 2 * (self.width + self.height)  # Perimeter = 2 * (width + height)\n",
    "\n",
    "\n",
    "my_rectangle = Rectangle(10, 10)\n",
    "\n",
    "print(\"Area:\", my_rectangle.area())           \n",
    "print(\"Perimeter:\", my_rectangle.perimeter()) \n"
   ]
  },
  {
   "cell_type": "code",
   "execution_count": 31,
   "id": "27d97b48-ad54-4119-a8ff-5f8601da80d2",
   "metadata": {},
   "outputs": [
    {
     "name": "stdout",
     "output_type": "stream",
     "text": [
      "Woof!\n",
      "Meow!\n"
     ]
    }
   ],
   "source": [
    "#10.Define a base class Animal with a method make_sound. Create subclasses Dog and Cat that override\n",
    "# make_sound. Write a function that takes an Animal object and calls make_sound, demonstrating polymorphism.\n",
    "\n",
    "\n",
    "class Animal:\n",
    "    def make_sound(self):\n",
    "        pass  \n",
    "        \n",
    "\n",
    "class Dog(Animal):\n",
    "    def make_sound(self):\n",
    "        return \"Woof!\"\n",
    "\n",
    "\n",
    "class Cat(Animal):\n",
    "    def make_sound(self): \n",
    "        return \"Meow!\"\n",
    "\n",
    "\n",
    "def print_animal_sound(animal):\n",
    "    print(animal.make_sound())\n",
    "\n",
    "\n",
    "dog = Dog()\n",
    "cat = Cat()\n",
    "\n",
    "print_animal_sound(dog)  \n",
    "print_animal_sound(cat)  \n"
   ]
  },
  {
   "cell_type": "code",
   "execution_count": 32,
   "id": "79390e1b-2f23-4ff5-9678-6a49b36e1686",
   "metadata": {},
   "outputs": [
    {
     "name": "stdout",
     "output_type": "stream",
     "text": [
      "Drawing a circle.\n",
      "Drawing a square.\n"
     ]
    }
   ],
   "source": [
    "#11.Create a base class Shape with a method draw. Derive classes Circle and Square from Shape, each\n",
    "# implementing the draw method in a way specific to the shape.\n",
    "\n",
    "\n",
    "class Shape:\n",
    "    def draw(self):\n",
    "        pass  \n",
    "        \n",
    "\n",
    "\n",
    "class Circle(Shape):\n",
    "    def draw(self):\n",
    "        return \"Drawing a circle.\"\n",
    "\n",
    "\n",
    "class Square(Shape):\n",
    "    def draw(self):\n",
    "        return \"Drawing a square.\"\n",
    "\n",
    "\n",
    "def draw_shape(shape):\n",
    "    print(shape.draw())\n",
    "\n",
    "\n",
    "circle = Circle()\n",
    "square = Square()\n",
    "\n",
    "draw_shape(circle)  \n",
    "draw_shape(square)  \n"
   ]
  },
  {
   "cell_type": "code",
   "execution_count": 38,
   "id": "fbca0445-4c8c-4745-a36b-4601bb30d934",
   "metadata": {},
   "outputs": [
    {
     "name": "stdout",
     "output_type": "stream",
     "text": [
      "Processing credit card payment of 100 with card number 1234-5678-9012-3456.\n",
      "Processing PayPal payment of 150 to email rawanisuraj1919@gmail.com.\n"
     ]
    }
   ],
   "source": [
    "#12. Design a class Payment with a method process. Derive classes CreditCardPayment and\n",
    "# PayPalPayment from Payment, each implementing process to handle payment differently.\n",
    "\n",
    "\n",
    "class Payment:\n",
    "    def process(self):\n",
    "        pass  \n",
    "\n",
    "\n",
    "class CreditCardPayment(Payment):\n",
    "    def __init__(self, card_number, amount):\n",
    "        self.card_number = card_number\n",
    "        self.amount = amount\n",
    "    \n",
    "  \n",
    "    def process(self):\n",
    "        return f\"Processing credit card payment of {self.amount} with card number {self.card_number}.\"\n",
    "\n",
    "\n",
    "class PayPalPayment(Payment):\n",
    "    def __init__(self, email, amount):\n",
    "        self.email = email\n",
    "        self.amount = amount\n",
    "    \n",
    "  \n",
    "    def process(self):\n",
    "        return f\"Processing PayPal payment of {self.amount} to email {self.email}.\"\n",
    "\n",
    "\n",
    "def process_payment(payment):\n",
    "    print(payment.process())\n",
    "\n",
    "\n",
    "credit_card_payment = CreditCardPayment(\"1234-5678-9012-3456\", 100)\n",
    "paypal_payment = PayPalPayment(\"rawanisuraj1919@gmail.com\", 150)\n",
    "\n",
    "process_payment(credit_card_payment)  \n",
    "process_payment(paypal_payment)  \n",
    "\n"
   ]
  },
  {
   "cell_type": "code",
   "execution_count": 40,
   "id": "15269a78-2070-457b-94ad-0feb56652d69",
   "metadata": {},
   "outputs": [
    {
     "name": "stdout",
     "output_type": "stream",
     "text": [
      "Salary: 5000\n",
      "Salary: 2000\n"
     ]
    }
   ],
   "source": [
    "#13. Implement a base class Employee with a method calculate_salary. Derive classes FullTimeEmployee\n",
    "# and PartTimeEmployee from Employee, each providing their own implementation of\n",
    "# calculate_salary.\n",
    "\n",
    "# Base class Employee\n",
    "class Employee:\n",
    "    def calculate_salary(self):\n",
    "        pass  \n",
    "\n",
    "\n",
    "class FullTimeEmployee(Employee):\n",
    "    def __init__(self, base_salary):\n",
    "        self.base_salary = base_salary\n",
    "    \n",
    "   \n",
    "    def calculate_salary(self):\n",
    "        return self.base_salary  \n",
    "\n",
    "\n",
    "class PartTimeEmployee(Employee):\n",
    "    def __init__(self, hourly_rate, hours_worked):\n",
    "        self.hourly_rate = hourly_rate\n",
    "        self.hours_worked = hours_worked\n",
    "    \n",
    "\n",
    "    def calculate_salary(self):\n",
    "        return self.hourly_rate * self.hours_worked  \n",
    "\n",
    "\n",
    "def print_salary(employee):\n",
    "    print(f\"Salary: {employee.calculate_salary()}\")\n",
    "\n",
    "# Example usage\n",
    "full_time_employee = FullTimeEmployee(5000)  \n",
    "part_time_employee = PartTimeEmployee(20, 100)  \n",
    "\n",
    "print_salary(full_time_employee)  \n",
    "print_salary(part_time_employee)  \n"
   ]
  },
  {
   "cell_type": "code",
   "execution_count": 41,
   "id": "ae16f914-6308-4cbe-9514-d7f1f0474f97",
   "metadata": {},
   "outputs": [
    {
     "name": "stdout",
     "output_type": "stream",
     "text": [
      "Traveling by car at 60 mph.\n",
      "Traveling by bicycle at 15 mph.\n",
      "Traveling by bus at 40 mph.\n"
     ]
    }
   ],
   "source": [
    "#14. Create a base class Transport with a method travel. Derive classes Car, Bicycle, and Bus from\n",
    "# Transport, each providing a specific implementation of travel.\n",
    "\n",
    "# Base class Transport\n",
    "class Transport:\n",
    "    def travel(self):\n",
    "        pass  \n",
    "\n",
    "\n",
    "class Car(Transport):\n",
    "    def travel(self):\n",
    "        return \"Traveling by car at 60 mph.\"\n",
    "\n",
    "\n",
    "class Bicycle(Transport):\n",
    "    def travel(self):\n",
    "        return \"Traveling by bicycle at 15 mph.\"\n",
    "\n",
    "\n",
    "class Bus(Transport):\n",
    "    def travel(self):\n",
    "        return \"Traveling by bus at 40 mph.\"\n",
    "\n",
    "\n",
    "def travel_method(transport):\n",
    "    print(transport.travel())\n",
    "\n",
    "\n",
    "car = Car()\n",
    "bicycle = Bicycle()\n",
    "bus = Bus()\n",
    "\n",
    "travel_method(car)     \n",
    "travel_method(bicycle) \n",
    "travel_method(bus)     \n"
   ]
  },
  {
   "cell_type": "code",
   "execution_count": null,
   "id": "65b96246-8204-40ce-a6b6-a439533885fd",
   "metadata": {},
   "outputs": [],
   "source": []
  }
 ],
 "metadata": {
  "kernelspec": {
   "display_name": "Python 3 (ipykernel)",
   "language": "python",
   "name": "python3"
  },
  "language_info": {
   "codemirror_mode": {
    "name": "ipython",
    "version": 3
   },
   "file_extension": ".py",
   "mimetype": "text/x-python",
   "name": "python",
   "nbconvert_exporter": "python",
   "pygments_lexer": "ipython3",
   "version": "3.10.11"
  }
 },
 "nbformat": 4,
 "nbformat_minor": 5
}
